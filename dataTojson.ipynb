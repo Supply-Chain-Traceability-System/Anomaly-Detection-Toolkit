{
 "cells": [
  {
   "cell_type": "code",
   "execution_count": null,
   "metadata": {},
   "outputs": [],
   "source": [
    "import json\n",
    "import pandas as pd\n",
    "import numpy as np\n",
    "\n",
    "# df = pd.read_csv('2017-12_bme280sof_6040.csv', usecols=['Unnamed: 0', 'sensor_id', 'location', 'lat', 'lon', 'timestamp', 'pressure', 'temperature', 'humidity'])\n",
    "# df = pd.read_csv('2019-07_bme280sof_7724.csv', usecols=['Unnamed: 0', 'sensor_id', 'location', 'lat', 'lon', 'timestamp', 'pressure', 'temperature', 'humidity'])\n",
    "df = pd.read_csv('2019-07_bme280sof_12347.csv', usecols=['Unnamed: 0', 'sensor_id', 'location', 'lat', 'lon', 'timestamp', 'pressure', 'temperature', 'humidity'])\n",
    "L = np.ceil(np.log10(len(df))).astype(int)\n",
    "\n",
    "df['Unnamed: 0'] = np.array([str(sensor_id) +\\\n",
    "    #  ''.join(timestamp.split('T')[0].split('-')) +\\\n",
    "    #      ''.join(timestamp.split('T')[1].split(':')) +\\\n",
    "            f'%0{L}d'%df.index[(df['sensor_id']==sensor_id) & (df['timestamp']==timestamp)][0] for sensor_id, timestamp in zip(df['sensor_id'].values, df['timestamp'].values)])\n",
    "df.columns = ['code', 'sensorId', 'location', 'latitude', 'longitude', 'timestamp','pressure', 'temperature', 'humidity']\n",
    "df_raw = df\n",
    "df['timestamp'] = np.array([(24*60*(int(timestamp.split('T')[0].split('-')[-1])-1) + \\\n",
    "    60*int(timestamp.split('T')[1].split(':')[0]) + int(timestamp.split('T')[1].split(':')[1])) for timestamp in df['timestamp'].values])\n",
    "df['temperature'] = (100 * df['temperature']).astype(int)\n",
    "df.iloc[1000:1100,:].to_json('12347_100pieces.json', orient='records')\n",
    "# df.to_csv('2019-07_bme280sof_7724_format.csv')\n",
    "# df.to_csv('2017-12_bme280sof_6040_format.csv')\n",
    "# df.to_csv('2019-07_bme280sof_12347_format.csv')"
   ]
  }
 ],
 "metadata": {
  "language_info": {
   "name": "python"
  },
  "orig_nbformat": 4
 },
 "nbformat": 4,
 "nbformat_minor": 2
}
